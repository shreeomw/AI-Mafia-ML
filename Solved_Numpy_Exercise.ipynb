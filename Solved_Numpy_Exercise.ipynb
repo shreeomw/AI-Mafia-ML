{
  "cells": [
    {
      "cell_type": "markdown",
      "metadata": {
        "id": "view-in-github",
        "colab_type": "text"
      },
      "source": [
        "<a href=\"https://colab.research.google.com/github/shreeomw/AI-Mafia-ML/blob/main/Solved_Numpy_Exercise.ipynb\" target=\"_parent\"><img src=\"https://colab.research.google.com/assets/colab-badge.svg\" alt=\"Open In Colab\"/></a>"
      ]
    },
    {
      "cell_type": "markdown",
      "metadata": {
        "id": "xHIuK108OFHz"
      },
      "source": [
        "# Numpy Exercise"
      ]
    },
    {
      "cell_type": "markdown",
      "metadata": {
        "id": "G9IL1WztOFH0"
      },
      "source": [
        "#### 1. Import the numpy package under the name as np  "
      ]
    },
    {
      "cell_type": "code",
      "execution_count": null,
      "metadata": {
        "collapsed": true,
        "id": "08VZC1aDOFH1"
      },
      "outputs": [],
      "source": [
        "import numpy as np"
      ]
    },
    {
      "cell_type": "markdown",
      "metadata": {
        "id": "ZyZq999tOFH2"
      },
      "source": [
        "#### 2. Print the numpy version and the configuration"
      ]
    },
    {
      "cell_type": "code",
      "execution_count": null,
      "metadata": {
        "id": "0XhTI-bDOFH2",
        "outputId": "f29e032b-a6a6-4c9a-d1b8-0adf92fc5ee6",
        "colab": {
          "base_uri": "https://localhost:8080/"
        }
      },
      "outputs": [
        {
          "output_type": "stream",
          "name": "stdout",
          "text": [
            "Build Dependencies:\n",
            "  blas:\n",
            "    detection method: pkgconfig\n",
            "    found: true\n",
            "    include directory: /usr/local/include\n",
            "    lib directory: /usr/local/lib\n",
            "    name: openblas64\n",
            "    openblas configuration: USE_64BITINT=1 DYNAMIC_ARCH=1 DYNAMIC_OLDER= NO_CBLAS=\n",
            "      NO_LAPACK= NO_LAPACKE= NO_AFFINITY=1 USE_OPENMP= HASWELL MAX_THREADS=2\n",
            "    pc file directory: /usr/local/lib/pkgconfig\n",
            "    version: 0.3.23.dev\n",
            "  lapack:\n",
            "    detection method: internal\n",
            "    found: true\n",
            "    include directory: unknown\n",
            "    lib directory: unknown\n",
            "    name: dep139863411681952\n",
            "    openblas configuration: unknown\n",
            "    pc file directory: unknown\n",
            "    version: 1.26.4\n",
            "Compilers:\n",
            "  c:\n",
            "    args: -fno-strict-aliasing\n",
            "    commands: cc\n",
            "    linker: ld.bfd\n",
            "    linker args: -Wl,--strip-debug, -fno-strict-aliasing\n",
            "    name: gcc\n",
            "    version: 10.2.1\n",
            "  c++:\n",
            "    commands: c++\n",
            "    linker: ld.bfd\n",
            "    linker args: -Wl,--strip-debug\n",
            "    name: gcc\n",
            "    version: 10.2.1\n",
            "  cython:\n",
            "    commands: cython\n",
            "    linker: cython\n",
            "    name: cython\n",
            "    version: 3.0.8\n",
            "Machine Information:\n",
            "  build:\n",
            "    cpu: x86_64\n",
            "    endian: little\n",
            "    family: x86_64\n",
            "    system: linux\n",
            "  host:\n",
            "    cpu: x86_64\n",
            "    endian: little\n",
            "    family: x86_64\n",
            "    system: linux\n",
            "Python Information:\n",
            "  path: /opt/python/cp310-cp310/bin/python\n",
            "  version: '3.10'\n",
            "SIMD Extensions:\n",
            "  baseline:\n",
            "  - SSE\n",
            "  - SSE2\n",
            "  - SSE3\n",
            "  found:\n",
            "  - SSSE3\n",
            "  - SSE41\n",
            "  - POPCNT\n",
            "  - SSE42\n",
            "  - AVX\n",
            "  - F16C\n",
            "  - FMA3\n",
            "  - AVX2\n",
            "  not found:\n",
            "  - AVX512F\n",
            "  - AVX512CD\n",
            "  - AVX512_KNL\n",
            "  - AVX512_KNM\n",
            "  - AVX512_SKX\n",
            "  - AVX512_CLX\n",
            "  - AVX512_CNL\n",
            "  - AVX512_ICL\n",
            "\n"
          ]
        }
      ],
      "source": [
        "np.__version__\n",
        "np.show_config()"
      ]
    },
    {
      "cell_type": "markdown",
      "metadata": {
        "id": "rOiMEgbNOFH3"
      },
      "source": [
        "#### 3. Create a null vector of size 10"
      ]
    },
    {
      "cell_type": "code",
      "execution_count": null,
      "metadata": {
        "id": "cnSobmg-OFH3",
        "outputId": "ba2e7af8-8ab6-47a4-fb5c-9403a6673f9b",
        "colab": {
          "base_uri": "https://localhost:8080/"
        }
      },
      "outputs": [
        {
          "output_type": "stream",
          "name": "stdout",
          "text": [
            "[0. 0. 0. 0. 0. 0. 0. 0. 0. 0.]\n"
          ]
        }
      ],
      "source": [
        "n = np.zeros(10)\n",
        "print(n)"
      ]
    },
    {
      "cell_type": "markdown",
      "metadata": {
        "id": "YdSQ2lMoOFH4"
      },
      "source": [
        "#### 4.  How to find the memory size of any array"
      ]
    },
    {
      "cell_type": "code",
      "execution_count": null,
      "metadata": {
        "id": "rRr_hJnTOFH4",
        "outputId": "5851b753-622e-490e-bf76-6d961685e078",
        "colab": {
          "base_uri": "https://localhost:8080/"
        }
      },
      "outputs": [
        {
          "output_type": "stream",
          "name": "stdout",
          "text": [
            "16-size of n\n"
          ]
        }
      ],
      "source": [
        "n = np.zeros((4,4))\n",
        "print('%d-size of n'%(n.size))"
      ]
    },
    {
      "cell_type": "markdown",
      "metadata": {
        "id": "jro1iUoEOFH5"
      },
      "source": [
        "#### 5.  How to get the documentation of the numpy add function from the command line?"
      ]
    },
    {
      "cell_type": "code",
      "execution_count": null,
      "metadata": {
        "collapsed": true,
        "id": "XaHjDwA0OFH5"
      },
      "outputs": [],
      "source": [
        "np.add?"
      ]
    },
    {
      "cell_type": "markdown",
      "metadata": {
        "id": "IWxdxJAYOFH5"
      },
      "source": [
        "#### 6.  Create a null vector of size 10 but the fifth value which is 1"
      ]
    },
    {
      "cell_type": "code",
      "execution_count": null,
      "metadata": {
        "id": "2temTHRfOFH6",
        "outputId": "1874c40c-1550-49db-cb61-b1caedb1a3b0",
        "colab": {
          "base_uri": "https://localhost:8080/"
        }
      },
      "outputs": [
        {
          "output_type": "stream",
          "name": "stdout",
          "text": [
            "[0. 0. 0. 0. 1. 0. 0. 0. 0. 0.]\n"
          ]
        }
      ],
      "source": [
        "n = np.zeros(10)\n",
        "n[4] =1\n",
        "print(n)"
      ]
    },
    {
      "cell_type": "markdown",
      "metadata": {
        "id": "vwvsMbIvOFH6"
      },
      "source": [
        "#### 7.  Create a vector with values ranging from 10 to 49"
      ]
    },
    {
      "cell_type": "code",
      "execution_count": null,
      "metadata": {
        "id": "1xcj2ojxOFH6",
        "outputId": "22462703-691e-425e-f0e4-e96bd7328038",
        "colab": {
          "base_uri": "https://localhost:8080/"
        }
      },
      "outputs": [
        {
          "output_type": "stream",
          "name": "stdout",
          "text": [
            "[10 11 12 13 14 15 16 17 18 19 20 21 22 23 24 25 26 27 28 29 30 31 32 33\n",
            " 34 35 36 37 38 39 40 41 42 43 44 45 46 47 48 49]\n"
          ]
        }
      ],
      "source": [
        "n = np.array(range(10,50))\n",
        "print(n)"
      ]
    },
    {
      "cell_type": "markdown",
      "metadata": {
        "id": "pIn7t_RSOFH6"
      },
      "source": [
        "#### 8.  Reverse a vector (first element becomes last)"
      ]
    },
    {
      "cell_type": "code",
      "execution_count": null,
      "metadata": {
        "id": "SbFVZYLAOFH7",
        "outputId": "8ce1aea7-727c-46b1-ec17-a765b8778c1b",
        "colab": {
          "base_uri": "https://localhost:8080/"
        }
      },
      "outputs": [
        {
          "output_type": "stream",
          "name": "stdout",
          "text": [
            "[49 48 47 46 45 44 43 42 41 40 39 38 37 36 35 34 33 32 31 30 29 28 27 26\n",
            " 25 24 23 22 21 20 19 18 17 16 15 14 13 12 11 10]\n"
          ]
        }
      ],
      "source": [
        "n = np.array(range(10,50))\n",
        "n = n[::-1]\n",
        "print(n)"
      ]
    },
    {
      "cell_type": "markdown",
      "metadata": {
        "id": "0xrTlvwuOFH7"
      },
      "source": [
        "#### 9.  Create a 3x3 matrix with values ranging from 0 to 8"
      ]
    },
    {
      "cell_type": "code",
      "execution_count": null,
      "metadata": {
        "id": "lV2EpVB5OFH7",
        "outputId": "6f263ae8-7a1c-4035-9314-5cfc87924a2f",
        "colab": {
          "base_uri": "https://localhost:8080/"
        }
      },
      "outputs": [
        {
          "output_type": "stream",
          "name": "stdout",
          "text": [
            "[[0 1 2]\n",
            " [3 4 5]\n",
            " [6 7 8]]\n"
          ]
        }
      ],
      "source": [
        "n = np.array(range(0,9))\n",
        "n = n.reshape(3,3)\n",
        "print(n)"
      ]
    },
    {
      "cell_type": "markdown",
      "metadata": {
        "id": "mbG6XRcgOFH8"
      },
      "source": [
        "#### 10. Find indices of non-zero elements from \\[1,2,0,0,4,0\\]"
      ]
    },
    {
      "cell_type": "code",
      "execution_count": null,
      "metadata": {
        "id": "Ui04iP8pOFH8",
        "outputId": "f4c9eaff-891b-4d31-95e6-dae34279ab5d",
        "colab": {
          "base_uri": "https://localhost:8080/"
        }
      },
      "outputs": [
        {
          "output_type": "stream",
          "name": "stdout",
          "text": [
            "(array([0, 1, 4]),)\n"
          ]
        }
      ],
      "source": [
        "n = np.array([1,2,0,0,4,0])\n",
        "print(np.nonzero(n))"
      ]
    },
    {
      "cell_type": "markdown",
      "metadata": {
        "id": "kbIPJh46OFH8"
      },
      "source": [
        "#### 11. Create a 3x3 identity matrix"
      ]
    },
    {
      "cell_type": "code",
      "execution_count": null,
      "metadata": {
        "id": "WSAWEcVLOFH8",
        "outputId": "b0d37925-6095-4a7f-a207-41d707e55b52",
        "colab": {
          "base_uri": "https://localhost:8080/"
        }
      },
      "outputs": [
        {
          "output_type": "stream",
          "name": "stdout",
          "text": [
            "[[1. 0. 0.]\n",
            " [0. 1. 0.]\n",
            " [0. 0. 1.]]\n"
          ]
        }
      ],
      "source": [
        "n = np.eye(3)\n",
        "print(n)"
      ]
    },
    {
      "cell_type": "markdown",
      "metadata": {
        "id": "Pb4UnYulOFH8"
      },
      "source": [
        "#### 12. Create a 3x3x3 array with random values"
      ]
    },
    {
      "cell_type": "code",
      "execution_count": null,
      "metadata": {
        "collapsed": true,
        "id": "XAY_gYBHOFH9",
        "outputId": "603591e2-6461-4c52-f34b-bd69f3284659",
        "colab": {
          "base_uri": "https://localhost:8080/"
        }
      },
      "outputs": [
        {
          "output_type": "stream",
          "name": "stdout",
          "text": [
            "[[[3.82537483e-01 8.08006403e-01 7.84368571e-02]\n",
            "  [1.80462104e-01 4.30627912e-05 3.15894224e-01]\n",
            "  [3.62308865e-01 2.92517938e-01 8.79753524e-01]]\n",
            "\n",
            " [[2.27093635e-01 5.72054105e-01 4.04886420e-01]\n",
            "  [1.85039790e-01 5.56252643e-01 7.03738526e-01]\n",
            "  [8.53752714e-01 2.09070543e-02 6.04549996e-01]]\n",
            "\n",
            " [[5.58060542e-01 3.12111500e-01 4.55555506e-02]\n",
            "  [5.48179067e-01 1.08592046e-01 4.02640112e-01]\n",
            "  [7.06117495e-01 5.10815793e-01 9.18019662e-01]]]\n"
          ]
        }
      ],
      "source": [
        "n = np.random.random((3,3,3))\n",
        "print(n)"
      ]
    },
    {
      "cell_type": "markdown",
      "metadata": {
        "id": "EsOV7TllOFH9"
      },
      "source": [
        "#### 13. Create a 10x10 array with random values and find the minimum and maximum values"
      ]
    },
    {
      "cell_type": "code",
      "execution_count": null,
      "metadata": {
        "id": "x-alHK9dOFH9",
        "outputId": "6ed6c798-3c4a-4903-fda6-f3240b7fe35c",
        "colab": {
          "base_uri": "https://localhost:8080/"
        }
      },
      "outputs": [
        {
          "output_type": "stream",
          "name": "stdout",
          "text": [
            "[[0.93828259 0.3726559  0.42013533 0.66222297 0.81759278 0.21539673\n",
            "  0.72599044 0.40005705 0.46298524 0.04520393]\n",
            " [0.75470917 0.59288387 0.33258174 0.94179711 0.06957262 0.96690732\n",
            "  0.10045636 0.80008805 0.11901695 0.40942887]\n",
            " [0.20822033 0.22740846 0.31673348 0.97070251 0.26947882 0.78618157\n",
            "  0.64083887 0.20855144 0.76395121 0.70053625]\n",
            " [0.00260356 0.77466073 0.07144792 0.68972962 0.65484358 0.66256588\n",
            "  0.84408199 0.09373973 0.0796352  0.70573381]\n",
            " [0.77238413 0.69118934 0.47895656 0.36066897 0.20230128 0.08374647\n",
            "  0.238921   0.40419594 0.61912326 0.29191647]\n",
            " [0.70006201 0.83921479 0.48044221 0.18373849 0.64077585 0.25587306\n",
            "  0.53070139 0.92013479 0.10641844 0.24715018]\n",
            " [0.1095855  0.70347827 0.50488701 0.8385862  0.25324914 0.24838757\n",
            "  0.76388961 0.97128831 0.09261203 0.54054603]\n",
            " [0.49724223 0.45118256 0.01315789 0.88187484 0.17363755 0.05137453\n",
            "  0.29278661 0.25295735 0.96799046 0.32411882]\n",
            " [0.89017274 0.52421742 0.83751879 0.73340921 0.54090382 0.51458127\n",
            "  0.67545026 0.38617287 0.67214499 0.26690234]\n",
            " [0.97272249 0.36344584 0.40424263 0.12541787 0.33712147 0.23198145\n",
            "  0.83765953 0.28638891 0.34303254 0.58898136]]\n",
            "0.9727224943504711\n",
            "0.002603560576971753\n"
          ]
        }
      ],
      "source": [
        "n = np.random.random((10,10))\n",
        "print(n)\n",
        "print(np.max(n))\n",
        "print(np.min(n))"
      ]
    },
    {
      "cell_type": "markdown",
      "metadata": {
        "id": "l2ccYbDrOFH-"
      },
      "source": [
        "#### 14. Create a random vector of size 30 and find the mean value"
      ]
    },
    {
      "cell_type": "code",
      "execution_count": null,
      "metadata": {
        "id": "irckzNJzOFH-",
        "outputId": "2f00b837-6b11-480f-ce79-1bea5fea84db",
        "colab": {
          "base_uri": "https://localhost:8080/"
        }
      },
      "outputs": [
        {
          "output_type": "stream",
          "name": "stdout",
          "text": [
            "0.5750503291573268\n",
            "[0.18889131 0.03700909 0.95060744 0.88547296 0.58245822 0.28253937\n",
            " 0.04005849 0.85475707 0.44509684 0.91076689 0.92382398 0.80887482\n",
            " 0.86800682 0.75182145 0.51531465 0.02690191 0.60181706 0.25874872\n",
            " 0.89869212 0.72278417 0.47186964 0.50099314 0.84934937 0.49321574\n",
            " 0.74460295 0.29622627 0.29613754 0.9105624  0.51783971 0.61626974]\n"
          ]
        }
      ],
      "source": [
        "n = np.random.random(30)\n",
        "print(n.mean())\n",
        "print(n)"
      ]
    },
    {
      "cell_type": "markdown",
      "metadata": {
        "id": "ds_uvvWDOFH-"
      },
      "source": [
        "#### 15. Create a 2d array with 1 on the border and 0 inside"
      ]
    },
    {
      "cell_type": "code",
      "execution_count": null,
      "metadata": {
        "id": "rHeuIm9vOFH-",
        "outputId": "8cc6ad95-296e-4106-8f93-fc1023bb85a5",
        "colab": {
          "base_uri": "https://localhost:8080/"
        }
      },
      "outputs": [
        {
          "output_type": "stream",
          "name": "stdout",
          "text": [
            "[[1. 1. 1. 1. 1. 1. 1. 1. 1. 1.]\n",
            " [1. 0. 0. 0. 0. 0. 0. 0. 0. 1.]\n",
            " [1. 0. 0. 0. 0. 0. 0. 0. 0. 1.]\n",
            " [1. 0. 0. 0. 0. 0. 0. 0. 0. 1.]\n",
            " [1. 0. 0. 0. 0. 0. 0. 0. 0. 1.]\n",
            " [1. 0. 0. 0. 0. 0. 0. 0. 0. 1.]\n",
            " [1. 0. 0. 0. 0. 0. 0. 0. 0. 1.]\n",
            " [1. 0. 0. 0. 0. 0. 0. 0. 0. 1.]\n",
            " [1. 0. 0. 0. 0. 0. 0. 0. 0. 1.]\n",
            " [1. 1. 1. 1. 1. 1. 1. 1. 1. 1.]]\n"
          ]
        }
      ],
      "source": [
        "n = np.ones((10,10))\n",
        "n[1:-1,1:-1] = 0 #explain\n",
        "print(n)"
      ]
    },
    {
      "cell_type": "markdown",
      "metadata": {
        "id": "5kkrtcB4OFH_"
      },
      "source": [
        "#### 16. How to add a border (filled with 0's) around an existing array?"
      ]
    },
    {
      "cell_type": "code",
      "execution_count": null,
      "metadata": {
        "id": "wEb9ajRiOFH_",
        "outputId": "9973ab4d-260f-4361-ba0a-4dbc171ed495",
        "colab": {
          "base_uri": "https://localhost:8080/"
        }
      },
      "outputs": [
        {
          "output_type": "stream",
          "name": "stdout",
          "text": [
            "[[0. 0. 0. 0. 0. 0. 0.]\n",
            " [0. 1. 1. 1. 1. 1. 0.]\n",
            " [0. 1. 1. 1. 1. 1. 0.]\n",
            " [0. 1. 1. 1. 1. 1. 0.]\n",
            " [0. 1. 1. 1. 1. 1. 0.]\n",
            " [0. 1. 1. 1. 1. 1. 0.]\n",
            " [0. 0. 0. 0. 0. 0. 0.]]\n"
          ]
        }
      ],
      "source": [
        "n = np.ones((5,5))\n",
        "n = np.pad(n, pad_width=1, mode='constant', constant_values=0)\n",
        "print(n)"
      ]
    },
    {
      "cell_type": "markdown",
      "metadata": {
        "id": "KNBz_w-4OFH_"
      },
      "source": [
        "#### 17. What is the result of the following expression?"
      ]
    },
    {
      "cell_type": "markdown",
      "metadata": {
        "id": "YNB-JNJvOFH_"
      },
      "source": [
        "```python\n",
        "0 * np.nan\n",
        "np.nan == np.nan\n",
        "np.inf > np.nan\n",
        "np.nan - np.nan\n",
        "np.nan in set([np.nan])\n",
        "0.3 == 3 * 0.1\n",
        "```"
      ]
    },
    {
      "cell_type": "code",
      "execution_count": null,
      "metadata": {
        "id": "1CnJEMwgOFIA",
        "colab": {
          "base_uri": "https://localhost:8080/"
        },
        "outputId": "3f4953db-f50e-4de2-9cd6-9133c2464a8c"
      },
      "outputs": [
        {
          "output_type": "execute_result",
          "data": {
            "text/plain": [
              "True"
            ]
          },
          "metadata": {},
          "execution_count": 19
        }
      ],
      "source": [
        "0 * np.nan"
      ]
    },
    {
      "cell_type": "code",
      "source": [
        "np.nan == np.nan"
      ],
      "metadata": {
        "colab": {
          "base_uri": "https://localhost:8080/"
        },
        "id": "JRLnv5ul9Qj7",
        "outputId": "4496c559-a6d3-4282-fc18-17d683f6d66d"
      },
      "execution_count": null,
      "outputs": [
        {
          "output_type": "execute_result",
          "data": {
            "text/plain": [
              "False"
            ]
          },
          "metadata": {},
          "execution_count": 20
        }
      ]
    },
    {
      "cell_type": "code",
      "source": [
        "np.inf > np.nan"
      ],
      "metadata": {
        "colab": {
          "base_uri": "https://localhost:8080/"
        },
        "id": "hNkLJqBr9WG-",
        "outputId": "07220542-15a0-4519-cdbd-e18c5ffdcbf2"
      },
      "execution_count": null,
      "outputs": [
        {
          "output_type": "execute_result",
          "data": {
            "text/plain": [
              "False"
            ]
          },
          "metadata": {},
          "execution_count": 21
        }
      ]
    },
    {
      "cell_type": "code",
      "source": [
        "np.nan - np.nan"
      ],
      "metadata": {
        "colab": {
          "base_uri": "https://localhost:8080/"
        },
        "id": "8HWmwGWw9bdv",
        "outputId": "673489cc-fae3-4e80-b7e1-b5ae5c0518d6"
      },
      "execution_count": null,
      "outputs": [
        {
          "output_type": "execute_result",
          "data": {
            "text/plain": [
              "nan"
            ]
          },
          "metadata": {},
          "execution_count": 22
        }
      ]
    },
    {
      "cell_type": "code",
      "source": [
        "np.nan in set([np.nan])"
      ],
      "metadata": {
        "colab": {
          "base_uri": "https://localhost:8080/"
        },
        "id": "LCLwuLIJ9jJf",
        "outputId": "cd0f150f-2946-4fdd-bbe3-002db27e9075"
      },
      "execution_count": null,
      "outputs": [
        {
          "output_type": "execute_result",
          "data": {
            "text/plain": [
              "True"
            ]
          },
          "metadata": {},
          "execution_count": 23
        }
      ]
    },
    {
      "cell_type": "code",
      "source": [
        "0.3 == 3 * 0.1"
      ],
      "metadata": {
        "colab": {
          "base_uri": "https://localhost:8080/"
        },
        "id": "qJT1YjSA9oPc",
        "outputId": "f03e772f-3467-45fe-a589-bc411534a660"
      },
      "execution_count": null,
      "outputs": [
        {
          "output_type": "execute_result",
          "data": {
            "text/plain": [
              "False"
            ]
          },
          "metadata": {},
          "execution_count": 24
        }
      ]
    },
    {
      "cell_type": "markdown",
      "metadata": {
        "id": "iL3ifBb7OFIA"
      },
      "source": [
        "#### 18. Create a 5x5 matrix with values 1,2,3,4 just below the diagonal"
      ]
    },
    {
      "cell_type": "code",
      "execution_count": null,
      "metadata": {
        "id": "X8Bz_7znOFIA",
        "colab": {
          "base_uri": "https://localhost:8080/"
        },
        "outputId": "1f54d72f-7b7a-4ad1-ba6a-4dc3849a9ea9"
      },
      "outputs": [
        {
          "output_type": "stream",
          "name": "stdout",
          "text": [
            "[[0 0 0 0 0]\n",
            " [1 0 0 0 0]\n",
            " [0 2 0 0 0]\n",
            " [0 0 3 0 0]\n",
            " [0 0 0 4 0]]\n"
          ]
        }
      ],
      "source": [
        "n = np.zeros((5,5))\n",
        "n = np.diag(1+np.arange(4),k=-1)\n",
        "print(n)"
      ]
    },
    {
      "cell_type": "markdown",
      "metadata": {
        "id": "JZOGsQ3POFIB"
      },
      "source": [
        "#### 19. Create a 8x8 matrix and fill it with a checkerboard pattern"
      ]
    },
    {
      "cell_type": "code",
      "execution_count": null,
      "metadata": {
        "id": "KIHC31QvOFII",
        "colab": {
          "base_uri": "https://localhost:8080/"
        },
        "outputId": "b1d7ebfc-50fc-4869-a20e-1c92bb7b2fc6"
      },
      "outputs": [
        {
          "output_type": "stream",
          "name": "stdout",
          "text": [
            "[[1. 0. 1. 0. 1. 0. 1. 0.]\n",
            " [0. 1. 0. 1. 0. 1. 0. 1.]\n",
            " [1. 0. 1. 0. 1. 0. 1. 0.]\n",
            " [0. 1. 0. 1. 0. 1. 0. 1.]\n",
            " [1. 0. 1. 0. 1. 0. 1. 0.]\n",
            " [0. 1. 0. 1. 0. 1. 0. 1.]\n",
            " [1. 0. 1. 0. 1. 0. 1. 0.]\n",
            " [0. 1. 0. 1. 0. 1. 0. 1.]]\n"
          ]
        }
      ],
      "source": [
        "n = np.zeros((8,8))\n",
        "for i in range(8):\n",
        "    for j in range(8):\n",
        "        if (i+j)%2 == 0:\n",
        "            n[i,j] = 1\n",
        "print(n)"
      ]
    },
    {
      "cell_type": "markdown",
      "metadata": {
        "id": "GOshnxs7OFIJ"
      },
      "source": [
        "#### 20. Consider a (6,7,8) shape array, what is the index (x,y,z) of the 100th element?"
      ]
    },
    {
      "cell_type": "code",
      "execution_count": null,
      "metadata": {
        "id": "k8H8Mq20OFIJ",
        "colab": {
          "base_uri": "https://localhost:8080/"
        },
        "outputId": "e6c8ac78-bd44-4bb4-99ef-b000c4b80d9d"
      },
      "outputs": [
        {
          "output_type": "stream",
          "name": "stdout",
          "text": [
            "(1, 5, 4)\n"
          ]
        }
      ],
      "source": [
        "n = np.unravel_index(100,(6,7,8))\n",
        "print(n)"
      ]
    }
  ],
  "metadata": {
    "kernelspec": {
      "display_name": "Python 3",
      "language": "python",
      "name": "python3"
    },
    "language_info": {
      "codemirror_mode": {
        "name": "ipython",
        "version": 3
      },
      "file_extension": ".py",
      "mimetype": "text/x-python",
      "name": "python",
      "nbconvert_exporter": "python",
      "pygments_lexer": "ipython3",
      "version": "3.7.3"
    },
    "colab": {
      "provenance": [],
      "include_colab_link": true
    }
  },
  "nbformat": 4,
  "nbformat_minor": 0
}